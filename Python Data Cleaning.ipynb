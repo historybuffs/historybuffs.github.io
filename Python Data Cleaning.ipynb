{
  "nbformat": 4,
  "nbformat_minor": 0,
  "metadata": {
    "colab": {
      "provenance": []
    },
    "kernelspec": {
      "name": "python3",
      "display_name": "Python 3"
    },
    "language_info": {
      "name": "python"
    }
  },
  "cells": [
    {
      "cell_type": "code",
      "execution_count": null,
      "metadata": {
        "id": "JQ264saTGp8l"
      },
      "outputs": [],
      "source": [
        "import pandas as pd\n",
        "import os"
      ]
    },
    {
      "cell_type": "markdown",
      "source": [
        "# Points"
      ],
      "metadata": {
        "id": "YjHCwuEiW_DA"
      }
    },
    {
      "cell_type": "code",
      "source": [
        "wd = 'C:/Users/gtapa/Desktop/SDSU/Summer 2025/GEOG 583/Final Project/CSV Data/'\n",
        "\n",
        "os.chdir(wd)\n",
        "os.getcwd()"
      ],
      "metadata": {
        "colab": {
          "base_uri": "https://localhost:8080/"
        },
        "id": "9pJM5DciXUEn",
        "outputId": "3adddb08-4835-4082-ca1f-0d88f41f139a"
      },
      "execution_count": null,
      "outputs": [
        {
          "output_type": "execute_result",
          "data": {
            "text/plain": [
              "'C:\\\\Users\\\\gtapa\\\\Desktop\\\\SDSU\\\\Summer 2025\\\\GEOG 583\\\\Final Project\\\\CSV Data'"
            ]
          },
          "metadata": {},
          "execution_count": 59
        }
      ]
    },
    {
      "cell_type": "code",
      "source": [
        "bldg_pt = pd.read_csv(wd + 'CRbldg_pt_short.csv', encoding='latin-1')\n",
        "dist_pt = pd.read_csv(wd + 'CRdist_pt_short.csv', encoding='latin-1')\n",
        "obj_pt = pd.read_csv(wd + 'CRobj_pt_short.csv', encoding='latin-1')\n",
        "site_pt = pd.read_csv(wd + 'CRsite_pt_short.csv', encoding='latin-1')\n",
        "str_pt = pd.read_csv(wd + 'CRstr_pt_short.csv', encoding='latin-1')\n",
        "\n",
        "areas_of_sig = pd.read_csv(wd + 'areas-of-sig-updated.csv', encoding='latin-1')"
      ],
      "metadata": {
        "id": "LYbEx-3jHFCV"
      },
      "execution_count": null,
      "outputs": []
    },
    {
      "cell_type": "code",
      "source": [
        "areas_of_sig.head()"
      ],
      "metadata": {
        "colab": {
          "base_uri": "https://localhost:8080/",
          "height": 206
        },
        "id": "dZfLu1n1L_zE",
        "outputId": "a8b437f4-2bfd-4bf3-a38e-818c3f397bec"
      },
      "execution_count": null,
      "outputs": [
        {
          "output_type": "execute_result",
          "data": {
            "text/plain": [
              "   NR_PROPERTYID                All Areas of Significance\n",
              "0       99000150                             Architecture\n",
              "1       84000596   Industry; Architecture; Social History\n",
              "2       97000651                             Architecture\n",
              "3       74000396                             Architecture\n",
              "4        1001296           Education; Black; Architecture"
            ],
            "text/html": [
              "<div>\n",
              "<style scoped>\n",
              "    .dataframe tbody tr th:only-of-type {\n",
              "        vertical-align: middle;\n",
              "    }\n",
              "\n",
              "    .dataframe tbody tr th {\n",
              "        vertical-align: top;\n",
              "    }\n",
              "\n",
              "    .dataframe thead th {\n",
              "        text-align: right;\n",
              "    }\n",
              "</style>\n",
              "<table border=\"1\" class=\"dataframe\">\n",
              "  <thead>\n",
              "    <tr style=\"text-align: right;\">\n",
              "      <th></th>\n",
              "      <th>NR_PROPERTYID</th>\n",
              "      <th>All Areas of Significance</th>\n",
              "    </tr>\n",
              "  </thead>\n",
              "  <tbody>\n",
              "    <tr>\n",
              "      <th>0</th>\n",
              "      <td>99000150</td>\n",
              "      <td>Architecture</td>\n",
              "    </tr>\n",
              "    <tr>\n",
              "      <th>1</th>\n",
              "      <td>84000596</td>\n",
              "      <td>Industry; Architecture; Social History</td>\n",
              "    </tr>\n",
              "    <tr>\n",
              "      <th>2</th>\n",
              "      <td>97000651</td>\n",
              "      <td>Architecture</td>\n",
              "    </tr>\n",
              "    <tr>\n",
              "      <th>3</th>\n",
              "      <td>74000396</td>\n",
              "      <td>Architecture</td>\n",
              "    </tr>\n",
              "    <tr>\n",
              "      <th>4</th>\n",
              "      <td>1001296</td>\n",
              "      <td>Education; Black; Architecture</td>\n",
              "    </tr>\n",
              "  </tbody>\n",
              "</table>\n",
              "</div>"
            ]
          },
          "metadata": {},
          "execution_count": 61
        }
      ]
    },
    {
      "cell_type": "code",
      "source": [
        "print(bldg_pt.shape)\n",
        "print(dist_pt.shape)\n",
        "print(obj_pt.shape)\n",
        "print(site_pt.shape)\n",
        "print(str_pt.shape)\n",
        "print(areas_of_sig.shape)"
      ],
      "metadata": {
        "colab": {
          "base_uri": "https://localhost:8080/"
        },
        "id": "cScxbfBTHWYU",
        "outputId": "7d235d6a-50ae-40ef-f22b-0d82fdec28db"
      },
      "execution_count": null,
      "outputs": [
        {
          "output_type": "stream",
          "name": "stdout",
          "text": [
            "(63219, 6)\n",
            "(2770, 6)\n",
            "(454, 6)\n",
            "(1505, 6)\n",
            "(4853, 6)\n",
            "(100117, 2)\n"
          ]
        }
      ]
    },
    {
      "cell_type": "code",
      "source": [
        "bldg_pt.dropna(subset=['NR_PROPERTYID'], inplace=True)\n",
        "dist_pt.dropna(subset=['NR_PROPERTYID'], inplace=True)\n",
        "obj_pt.dropna(subset=['NR_PROPERTYID'], inplace=True)\n",
        "site_pt.dropna(subset=['NR_PROPERTYID'], inplace=True)\n",
        "str_pt.dropna(subset=['NR_PROPERTYID'], inplace=True)"
      ],
      "metadata": {
        "id": "J-bLx5LmJZwG"
      },
      "execution_count": null,
      "outputs": []
    },
    {
      "cell_type": "code",
      "source": [
        "print(bldg_pt.shape)\n",
        "print(dist_pt.shape)\n",
        "print(obj_pt.shape)\n",
        "print(site_pt.shape)\n",
        "print(str_pt.shape)"
      ],
      "metadata": {
        "colab": {
          "base_uri": "https://localhost:8080/"
        },
        "id": "2Uwo9WEOJ9fm",
        "outputId": "a17c3843-1926-4e2d-c232-25a4d0e87765"
      },
      "execution_count": null,
      "outputs": [
        {
          "output_type": "stream",
          "name": "stdout",
          "text": [
            "(63176, 6)\n",
            "(2770, 6)\n",
            "(453, 6)\n",
            "(1505, 6)\n",
            "(4849, 6)\n"
          ]
        }
      ]
    },
    {
      "cell_type": "code",
      "source": [
        "bldg_pt['NR_PROPERTYID'] = bldg_pt['NR_PROPERTYID'].astype('int64')\n",
        "dist_pt['NR_PROPERTYID'] = dist_pt['NR_PROPERTYID'].astype('int64')\n",
        "obj_pt['NR_PROPERTYID'] = obj_pt['NR_PROPERTYID'].astype('int64')\n",
        "site_pt['NR_PROPERTYID'] = site_pt['NR_PROPERTYID'].astype('int64')\n",
        "str_pt['NR_PROPERTYID'] = str_pt['NR_PROPERTYID'].astype('int64')"
      ],
      "metadata": {
        "id": "GByBRt2DMRpn"
      },
      "execution_count": null,
      "outputs": []
    },
    {
      "cell_type": "code",
      "source": [
        "bldg_pt = bldg_pt.merge(areas_of_sig, on='NR_PROPERTYID', how='inner')\n",
        "dist_pt = dist_pt.merge(areas_of_sig, on='NR_PROPERTYID', how='inner')\n",
        "obj_pt = obj_pt.merge(areas_of_sig, on='NR_PROPERTYID', how='inner')\n",
        "site_pt = site_pt.merge(areas_of_sig, on='NR_PROPERTYID', how='inner')\n",
        "str_pt = str_pt.merge(areas_of_sig, on='NR_PROPERTYID', how='inner')"
      ],
      "metadata": {
        "id": "MHKGB2x0Mpip"
      },
      "execution_count": null,
      "outputs": []
    },
    {
      "cell_type": "code",
      "source": [
        "print(bldg_pt.shape)\n",
        "print(dist_pt.shape)\n",
        "print(obj_pt.shape)\n",
        "print(site_pt.shape)\n",
        "print(str_pt.shape)"
      ],
      "metadata": {
        "colab": {
          "base_uri": "https://localhost:8080/"
        },
        "id": "Gbq5qr8lMrb1",
        "outputId": "a216e29b-b7df-45ad-be08-9fcfcb7709fd"
      },
      "execution_count": null,
      "outputs": [
        {
          "output_type": "stream",
          "name": "stdout",
          "text": [
            "(62706, 7)\n",
            "(2764, 7)\n",
            "(449, 7)\n",
            "(1504, 7)\n",
            "(4741, 7)\n"
          ]
        }
      ]
    },
    {
      "cell_type": "code",
      "source": [
        "bldg_pt.drop(columns=['GlobalID'], inplace=True)\n",
        "dist_pt.drop(columns=['GlobalID'], inplace=True)\n",
        "obj_pt.drop(columns=['GlobalID'], inplace=True)\n",
        "site_pt.drop(columns=['GlobalID'], inplace=True)\n",
        "str_pt.drop(columns=['GlobalID'], inplace=True)\n",
        "\n",
        "bldg_pt.head()"
      ],
      "metadata": {
        "colab": {
          "base_uri": "https://localhost:8080/",
          "height": 206
        },
        "id": "F3xnWS0rXjTh",
        "outputId": "b4b3217a-14cf-4767-c80f-52b302646e48"
      },
      "execution_count": null,
      "outputs": [
        {
          "output_type": "execute_result",
          "data": {
            "text/plain": [
              "   NR_PROPERTYID                 RESNAME        SRC_DATE           X  \\\n",
              "0       82004903  Walker-Broderick House  8/31/1982 0:00 -131.646760   \n",
              "1       87000716   First Lutheran Church  5/18/1987 0:00 -131.657772   \n",
              "2       87000645  Ketchikan Ranger House  7/16/1987 0:00 -131.659277   \n",
              "3       89001415        Gilmore Building  9/27/1989 0:00 -131.647845   \n",
              "4       85001161           Ziegler House  5/30/1985 0:00 -131.645337   \n",
              "\n",
              "           Y           All Areas of Significance  \n",
              "0  55.344550        Architecture; Social History  \n",
              "1  55.345208                      Social History  \n",
              "2  55.346515   Politics/Government; Architecture  \n",
              "3  55.342299                            Commerce  \n",
              "4  55.344468                        Architecture  "
            ],
            "text/html": [
              "<div>\n",
              "<style scoped>\n",
              "    .dataframe tbody tr th:only-of-type {\n",
              "        vertical-align: middle;\n",
              "    }\n",
              "\n",
              "    .dataframe tbody tr th {\n",
              "        vertical-align: top;\n",
              "    }\n",
              "\n",
              "    .dataframe thead th {\n",
              "        text-align: right;\n",
              "    }\n",
              "</style>\n",
              "<table border=\"1\" class=\"dataframe\">\n",
              "  <thead>\n",
              "    <tr style=\"text-align: right;\">\n",
              "      <th></th>\n",
              "      <th>NR_PROPERTYID</th>\n",
              "      <th>RESNAME</th>\n",
              "      <th>SRC_DATE</th>\n",
              "      <th>X</th>\n",
              "      <th>Y</th>\n",
              "      <th>All Areas of Significance</th>\n",
              "    </tr>\n",
              "  </thead>\n",
              "  <tbody>\n",
              "    <tr>\n",
              "      <th>0</th>\n",
              "      <td>82004903</td>\n",
              "      <td>Walker-Broderick House</td>\n",
              "      <td>8/31/1982 0:00</td>\n",
              "      <td>-131.646760</td>\n",
              "      <td>55.344550</td>\n",
              "      <td>Architecture; Social History</td>\n",
              "    </tr>\n",
              "    <tr>\n",
              "      <th>1</th>\n",
              "      <td>87000716</td>\n",
              "      <td>First Lutheran Church</td>\n",
              "      <td>5/18/1987 0:00</td>\n",
              "      <td>-131.657772</td>\n",
              "      <td>55.345208</td>\n",
              "      <td>Social History</td>\n",
              "    </tr>\n",
              "    <tr>\n",
              "      <th>2</th>\n",
              "      <td>87000645</td>\n",
              "      <td>Ketchikan Ranger House</td>\n",
              "      <td>7/16/1987 0:00</td>\n",
              "      <td>-131.659277</td>\n",
              "      <td>55.346515</td>\n",
              "      <td>Politics/Government; Architecture</td>\n",
              "    </tr>\n",
              "    <tr>\n",
              "      <th>3</th>\n",
              "      <td>89001415</td>\n",
              "      <td>Gilmore Building</td>\n",
              "      <td>9/27/1989 0:00</td>\n",
              "      <td>-131.647845</td>\n",
              "      <td>55.342299</td>\n",
              "      <td>Commerce</td>\n",
              "    </tr>\n",
              "    <tr>\n",
              "      <th>4</th>\n",
              "      <td>85001161</td>\n",
              "      <td>Ziegler House</td>\n",
              "      <td>5/30/1985 0:00</td>\n",
              "      <td>-131.645337</td>\n",
              "      <td>55.344468</td>\n",
              "      <td>Architecture</td>\n",
              "    </tr>\n",
              "  </tbody>\n",
              "</table>\n",
              "</div>"
            ]
          },
          "metadata": {},
          "execution_count": 68
        }
      ]
    },
    {
      "cell_type": "code",
      "source": [
        "bldg_pt[\"Type\"] = \"Historical Buildings\"\n",
        "dist_pt[\"Type\"] = \"Historical Districts\"\n",
        "obj_pt[\"Type\"] = \"Historical Objects\"\n",
        "site_pt[\"Type\"] = \"Historical Sites\"\n",
        "str_pt[\"Type\"] = \"Historical Structures\""
      ],
      "metadata": {
        "id": "cSBpcLwzo-Tp"
      },
      "execution_count": null,
      "outputs": []
    },
    {
      "cell_type": "code",
      "source": [
        "bldg_pt.head()"
      ],
      "metadata": {
        "colab": {
          "base_uri": "https://localhost:8080/",
          "height": 206
        },
        "id": "z0-0PlA7YUDX",
        "outputId": "761fe61d-37bf-42de-aa7c-9e53dbae0f4a"
      },
      "execution_count": null,
      "outputs": [
        {
          "output_type": "execute_result",
          "data": {
            "text/plain": [
              "   NR_PROPERTYID                 RESNAME        SRC_DATE           X  \\\n",
              "0       82004903  Walker-Broderick House  8/31/1982 0:00 -131.646760   \n",
              "1       87000716   First Lutheran Church  5/18/1987 0:00 -131.657772   \n",
              "2       87000645  Ketchikan Ranger House  7/16/1987 0:00 -131.659277   \n",
              "3       89001415        Gilmore Building  9/27/1989 0:00 -131.647845   \n",
              "4       85001161           Ziegler House  5/30/1985 0:00 -131.645337   \n",
              "\n",
              "           Y           All Areas of Significance                  Type  \n",
              "0  55.344550        Architecture; Social History  Historical Buildings  \n",
              "1  55.345208                      Social History  Historical Buildings  \n",
              "2  55.346515   Politics/Government; Architecture  Historical Buildings  \n",
              "3  55.342299                            Commerce  Historical Buildings  \n",
              "4  55.344468                        Architecture  Historical Buildings  "
            ],
            "text/html": [
              "<div>\n",
              "<style scoped>\n",
              "    .dataframe tbody tr th:only-of-type {\n",
              "        vertical-align: middle;\n",
              "    }\n",
              "\n",
              "    .dataframe tbody tr th {\n",
              "        vertical-align: top;\n",
              "    }\n",
              "\n",
              "    .dataframe thead th {\n",
              "        text-align: right;\n",
              "    }\n",
              "</style>\n",
              "<table border=\"1\" class=\"dataframe\">\n",
              "  <thead>\n",
              "    <tr style=\"text-align: right;\">\n",
              "      <th></th>\n",
              "      <th>NR_PROPERTYID</th>\n",
              "      <th>RESNAME</th>\n",
              "      <th>SRC_DATE</th>\n",
              "      <th>X</th>\n",
              "      <th>Y</th>\n",
              "      <th>All Areas of Significance</th>\n",
              "      <th>Type</th>\n",
              "    </tr>\n",
              "  </thead>\n",
              "  <tbody>\n",
              "    <tr>\n",
              "      <th>0</th>\n",
              "      <td>82004903</td>\n",
              "      <td>Walker-Broderick House</td>\n",
              "      <td>8/31/1982 0:00</td>\n",
              "      <td>-131.646760</td>\n",
              "      <td>55.344550</td>\n",
              "      <td>Architecture; Social History</td>\n",
              "      <td>Historical Buildings</td>\n",
              "    </tr>\n",
              "    <tr>\n",
              "      <th>1</th>\n",
              "      <td>87000716</td>\n",
              "      <td>First Lutheran Church</td>\n",
              "      <td>5/18/1987 0:00</td>\n",
              "      <td>-131.657772</td>\n",
              "      <td>55.345208</td>\n",
              "      <td>Social History</td>\n",
              "      <td>Historical Buildings</td>\n",
              "    </tr>\n",
              "    <tr>\n",
              "      <th>2</th>\n",
              "      <td>87000645</td>\n",
              "      <td>Ketchikan Ranger House</td>\n",
              "      <td>7/16/1987 0:00</td>\n",
              "      <td>-131.659277</td>\n",
              "      <td>55.346515</td>\n",
              "      <td>Politics/Government; Architecture</td>\n",
              "      <td>Historical Buildings</td>\n",
              "    </tr>\n",
              "    <tr>\n",
              "      <th>3</th>\n",
              "      <td>89001415</td>\n",
              "      <td>Gilmore Building</td>\n",
              "      <td>9/27/1989 0:00</td>\n",
              "      <td>-131.647845</td>\n",
              "      <td>55.342299</td>\n",
              "      <td>Commerce</td>\n",
              "      <td>Historical Buildings</td>\n",
              "    </tr>\n",
              "    <tr>\n",
              "      <th>4</th>\n",
              "      <td>85001161</td>\n",
              "      <td>Ziegler House</td>\n",
              "      <td>5/30/1985 0:00</td>\n",
              "      <td>-131.645337</td>\n",
              "      <td>55.344468</td>\n",
              "      <td>Architecture</td>\n",
              "      <td>Historical Buildings</td>\n",
              "    </tr>\n",
              "  </tbody>\n",
              "</table>\n",
              "</div>"
            ]
          },
          "metadata": {},
          "execution_count": 70
        }
      ]
    },
    {
      "cell_type": "code",
      "source": [
        "print(bldg_pt.shape)\n",
        "print(dist_pt.shape)\n",
        "print(obj_pt.shape)\n",
        "print(site_pt.shape)\n",
        "print(str_pt.shape)"
      ],
      "metadata": {
        "colab": {
          "base_uri": "https://localhost:8080/"
        },
        "id": "n7VN0NUNX4bg",
        "outputId": "88b3a744-26b7-44cd-895e-84587834e3bd"
      },
      "execution_count": null,
      "outputs": [
        {
          "output_type": "stream",
          "name": "stdout",
          "text": [
            "(62706, 7)\n",
            "(2764, 7)\n",
            "(449, 7)\n",
            "(1504, 7)\n",
            "(4741, 7)\n"
          ]
        }
      ]
    },
    {
      "cell_type": "code",
      "source": [
        "NRHP_locations_pt = pd.concat([bldg_pt, dist_pt, obj_pt, site_pt, str_pt], ignore_index=True)\n",
        "NRHP_locations_pt.shape"
      ],
      "metadata": {
        "id": "RqIb3ekdpAtP",
        "colab": {
          "base_uri": "https://localhost:8080/"
        },
        "outputId": "2958c8e9-3128-484a-83fc-f5967fcb0da4"
      },
      "execution_count": null,
      "outputs": [
        {
          "output_type": "execute_result",
          "data": {
            "text/plain": [
              "(72164, 7)"
            ]
          },
          "metadata": {},
          "execution_count": 72
        }
      ]
    },
    {
      "cell_type": "code",
      "source": [
        "NRHP_locations_pt.to_csv('NRHP_locations_updated_062425.csv', index=False)"
      ],
      "metadata": {
        "id": "ICFAm8B7pkzr"
      },
      "execution_count": null,
      "outputs": []
    },
    {
      "cell_type": "markdown",
      "source": [
        "# Polygons"
      ],
      "metadata": {
        "id": "zrYGM9rHXA9Q"
      }
    },
    {
      "cell_type": "code",
      "source": [
        "bldg_py = pd.read_csv(wd + 'bldg_py.csv', encoding='latin-1')\n",
        "dist_py = pd.read_csv(wd + 'dist_py.csv', encoding='latin-1')\n",
        "obj_py = pd.read_csv(wd + 'obj_py.csv', encoding='latin-1')\n",
        "site_py = pd.read_csv(wd + 'site_py.csv', encoding='latin-1')\n",
        "str_py = pd.read_csv(wd + 'str_py.csv', encoding='latin-1')\n",
        "\n",
        "areas_of_sig = pd.read_csv(wd + 'areas-of-sig-updated.csv', encoding='latin-1')"
      ],
      "metadata": {
        "id": "AUDMaZHvXB7S"
      },
      "execution_count": null,
      "outputs": []
    },
    {
      "cell_type": "code",
      "source": [
        "print(bldg_py.shape)\n",
        "print(dist_py.shape)\n",
        "print(obj_py.shape)\n",
        "print(site_py.shape)\n",
        "print(str_py.shape)\n",
        "print(areas_of_sig.shape)"
      ],
      "metadata": {
        "colab": {
          "base_uri": "https://localhost:8080/"
        },
        "id": "bjisJprbacxI",
        "outputId": "e79ba446-dc62-4668-f374-3232d76ef53b"
      },
      "execution_count": null,
      "outputs": [
        {
          "output_type": "stream",
          "name": "stdout",
          "text": [
            "(5515, 5)\n",
            "(12359, 5)\n",
            "(11, 5)\n",
            "(1053, 5)\n",
            "(433, 5)\n",
            "(100117, 2)\n"
          ]
        }
      ]
    },
    {
      "cell_type": "code",
      "source": [
        "bldg_py.dropna(subset=['NR_PROPERTYID'], inplace=True)\n",
        "dist_py.dropna(subset=['NR_PROPERTYID'], inplace=True)\n",
        "obj_py.dropna(subset=['NR_PROPERTYID'], inplace=True)\n",
        "site_py.dropna(subset=['NR_PROPERTYID'], inplace=True)\n",
        "str_py.dropna(subset=['NR_PROPERTYID'], inplace=True)"
      ],
      "metadata": {
        "id": "RhY6nCBQafB2"
      },
      "execution_count": null,
      "outputs": []
    },
    {
      "cell_type": "code",
      "source": [
        "print(bldg_py.shape)\n",
        "print(dist_py.shape)\n",
        "print(obj_py.shape)\n",
        "print(site_py.shape)\n",
        "print(str_py.shape)"
      ],
      "metadata": {
        "colab": {
          "base_uri": "https://localhost:8080/"
        },
        "id": "zcJeL2o2akZf",
        "outputId": "41e9a972-8cd0-4a44-a24c-075ea0e4fd73"
      },
      "execution_count": null,
      "outputs": [
        {
          "output_type": "stream",
          "name": "stdout",
          "text": [
            "(5515, 5)\n",
            "(12359, 5)\n",
            "(11, 5)\n",
            "(1053, 5)\n",
            "(432, 5)\n"
          ]
        }
      ]
    },
    {
      "cell_type": "code",
      "source": [
        "bldg_py['NR_PROPERTYID'] = bldg_py['NR_PROPERTYID'].astype('int64')\n",
        "dist_py['NR_PROPERTYID'] = dist_py['NR_PROPERTYID'].astype('int64')\n",
        "obj_py['NR_PROPERTYID'] = obj_py['NR_PROPERTYID'].astype('int64')\n",
        "site_py['NR_PROPERTYID'] = site_py['NR_PROPERTYID'].astype('int64')\n",
        "str_py['NR_PROPERTYID'] = str_py['NR_PROPERTYID'].astype('int64')"
      ],
      "metadata": {
        "id": "-U5o76-5ajfg"
      },
      "execution_count": null,
      "outputs": []
    },
    {
      "cell_type": "code",
      "source": [
        "bldg_py.head()"
      ],
      "metadata": {
        "colab": {
          "base_uri": "https://localhost:8080/",
          "height": 206
        },
        "id": "k_nGZz8EbRgm",
        "outputId": "45de5112-ed96-4548-8b5a-766d3fd0902a"
      },
      "execution_count": null,
      "outputs": [
        {
          "output_type": "execute_result",
          "data": {
            "text/plain": [
              "   NR_PROPERTYID                              RESNAME         SRC_DATE  \\\n",
              "0            802                  Eden Valley Orchard   7/14/2000 0:00   \n",
              "1            976       Steen, Helmer and Selma, House   8/10/2000 0:00   \n",
              "2        1001080                    Olson, Mary, Farm   10/5/2001 0:00   \n",
              "3        1001193  McClatchy, C.K., Senior High School   11/2/2001 0:00   \n",
              "4        1001234           Carriger, Nicholas, Estate  11/16/2001 0:00   \n",
              "\n",
              "            X          Y  \n",
              "0 -122.847834  42.288473  \n",
              "1 -122.474653  47.455831  \n",
              "2 -122.205304  47.346688  \n",
              "3 -121.493455  38.550930  \n",
              "4 -122.512185  38.296654  "
            ],
            "text/html": [
              "<div>\n",
              "<style scoped>\n",
              "    .dataframe tbody tr th:only-of-type {\n",
              "        vertical-align: middle;\n",
              "    }\n",
              "\n",
              "    .dataframe tbody tr th {\n",
              "        vertical-align: top;\n",
              "    }\n",
              "\n",
              "    .dataframe thead th {\n",
              "        text-align: right;\n",
              "    }\n",
              "</style>\n",
              "<table border=\"1\" class=\"dataframe\">\n",
              "  <thead>\n",
              "    <tr style=\"text-align: right;\">\n",
              "      <th></th>\n",
              "      <th>NR_PROPERTYID</th>\n",
              "      <th>RESNAME</th>\n",
              "      <th>SRC_DATE</th>\n",
              "      <th>X</th>\n",
              "      <th>Y</th>\n",
              "    </tr>\n",
              "  </thead>\n",
              "  <tbody>\n",
              "    <tr>\n",
              "      <th>0</th>\n",
              "      <td>802</td>\n",
              "      <td>Eden Valley Orchard</td>\n",
              "      <td>7/14/2000 0:00</td>\n",
              "      <td>-122.847834</td>\n",
              "      <td>42.288473</td>\n",
              "    </tr>\n",
              "    <tr>\n",
              "      <th>1</th>\n",
              "      <td>976</td>\n",
              "      <td>Steen, Helmer and Selma, House</td>\n",
              "      <td>8/10/2000 0:00</td>\n",
              "      <td>-122.474653</td>\n",
              "      <td>47.455831</td>\n",
              "    </tr>\n",
              "    <tr>\n",
              "      <th>2</th>\n",
              "      <td>1001080</td>\n",
              "      <td>Olson, Mary, Farm</td>\n",
              "      <td>10/5/2001 0:00</td>\n",
              "      <td>-122.205304</td>\n",
              "      <td>47.346688</td>\n",
              "    </tr>\n",
              "    <tr>\n",
              "      <th>3</th>\n",
              "      <td>1001193</td>\n",
              "      <td>McClatchy, C.K., Senior High School</td>\n",
              "      <td>11/2/2001 0:00</td>\n",
              "      <td>-121.493455</td>\n",
              "      <td>38.550930</td>\n",
              "    </tr>\n",
              "    <tr>\n",
              "      <th>4</th>\n",
              "      <td>1001234</td>\n",
              "      <td>Carriger, Nicholas, Estate</td>\n",
              "      <td>11/16/2001 0:00</td>\n",
              "      <td>-122.512185</td>\n",
              "      <td>38.296654</td>\n",
              "    </tr>\n",
              "  </tbody>\n",
              "</table>\n",
              "</div>"
            ]
          },
          "metadata": {},
          "execution_count": 78
        }
      ]
    },
    {
      "cell_type": "code",
      "source": [
        "bldg_py = bldg_py.merge(areas_of_sig, on='NR_PROPERTYID', how='inner')\n",
        "dist_py = dist_py.merge(areas_of_sig, on='NR_PROPERTYID', how='inner')\n",
        "obj_py = obj_py.merge(areas_of_sig, on='NR_PROPERTYID', how='inner')\n",
        "site_py = site_py.merge(areas_of_sig, on='NR_PROPERTYID', how='inner')\n",
        "str_py = str_py.merge(areas_of_sig, on='NR_PROPERTYID', how='inner')\n",
        "\n",
        "bldg_py.head()"
      ],
      "metadata": {
        "colab": {
          "base_uri": "https://localhost:8080/",
          "height": 206
        },
        "id": "y9EfZvIsauy-",
        "outputId": "c877b2e2-21da-465d-c9b6-7a9bfd87f363"
      },
      "execution_count": null,
      "outputs": [
        {
          "output_type": "execute_result",
          "data": {
            "text/plain": [
              "   NR_PROPERTYID                              RESNAME         SRC_DATE  \\\n",
              "0            802                  Eden Valley Orchard   7/14/2000 0:00   \n",
              "1            976       Steen, Helmer and Selma, House   8/10/2000 0:00   \n",
              "2        1001080                    Olson, Mary, Farm   10/5/2001 0:00   \n",
              "3        1001193  McClatchy, C.K., Senior High School   11/2/2001 0:00   \n",
              "4        1001234           Carriger, Nicholas, Estate  11/16/2001 0:00   \n",
              "\n",
              "            X          Y                        All Areas of Significance  \n",
              "0 -122.847834  42.288473              Agriculture; Exploration/Settlement  \n",
              "1 -122.474653  47.455831                                     Architecture  \n",
              "2 -122.205304  47.346688                        Agriculture; Architecture  \n",
              "3 -121.493455  38.550930                Politics/Government; Architecture  \n",
              "4 -122.512185  38.296654   Exploration/Settlement; Commerce; Architecture  "
            ],
            "text/html": [
              "<div>\n",
              "<style scoped>\n",
              "    .dataframe tbody tr th:only-of-type {\n",
              "        vertical-align: middle;\n",
              "    }\n",
              "\n",
              "    .dataframe tbody tr th {\n",
              "        vertical-align: top;\n",
              "    }\n",
              "\n",
              "    .dataframe thead th {\n",
              "        text-align: right;\n",
              "    }\n",
              "</style>\n",
              "<table border=\"1\" class=\"dataframe\">\n",
              "  <thead>\n",
              "    <tr style=\"text-align: right;\">\n",
              "      <th></th>\n",
              "      <th>NR_PROPERTYID</th>\n",
              "      <th>RESNAME</th>\n",
              "      <th>SRC_DATE</th>\n",
              "      <th>X</th>\n",
              "      <th>Y</th>\n",
              "      <th>All Areas of Significance</th>\n",
              "    </tr>\n",
              "  </thead>\n",
              "  <tbody>\n",
              "    <tr>\n",
              "      <th>0</th>\n",
              "      <td>802</td>\n",
              "      <td>Eden Valley Orchard</td>\n",
              "      <td>7/14/2000 0:00</td>\n",
              "      <td>-122.847834</td>\n",
              "      <td>42.288473</td>\n",
              "      <td>Agriculture; Exploration/Settlement</td>\n",
              "    </tr>\n",
              "    <tr>\n",
              "      <th>1</th>\n",
              "      <td>976</td>\n",
              "      <td>Steen, Helmer and Selma, House</td>\n",
              "      <td>8/10/2000 0:00</td>\n",
              "      <td>-122.474653</td>\n",
              "      <td>47.455831</td>\n",
              "      <td>Architecture</td>\n",
              "    </tr>\n",
              "    <tr>\n",
              "      <th>2</th>\n",
              "      <td>1001080</td>\n",
              "      <td>Olson, Mary, Farm</td>\n",
              "      <td>10/5/2001 0:00</td>\n",
              "      <td>-122.205304</td>\n",
              "      <td>47.346688</td>\n",
              "      <td>Agriculture; Architecture</td>\n",
              "    </tr>\n",
              "    <tr>\n",
              "      <th>3</th>\n",
              "      <td>1001193</td>\n",
              "      <td>McClatchy, C.K., Senior High School</td>\n",
              "      <td>11/2/2001 0:00</td>\n",
              "      <td>-121.493455</td>\n",
              "      <td>38.550930</td>\n",
              "      <td>Politics/Government; Architecture</td>\n",
              "    </tr>\n",
              "    <tr>\n",
              "      <th>4</th>\n",
              "      <td>1001234</td>\n",
              "      <td>Carriger, Nicholas, Estate</td>\n",
              "      <td>11/16/2001 0:00</td>\n",
              "      <td>-122.512185</td>\n",
              "      <td>38.296654</td>\n",
              "      <td>Exploration/Settlement; Commerce; Architecture</td>\n",
              "    </tr>\n",
              "  </tbody>\n",
              "</table>\n",
              "</div>"
            ]
          },
          "metadata": {},
          "execution_count": 79
        }
      ]
    },
    {
      "cell_type": "code",
      "source": [
        "print(bldg_py.shape)\n",
        "print(dist_py.shape)\n",
        "print(obj_py.shape)\n",
        "print(site_py.shape)\n",
        "print(str_py.shape)"
      ],
      "metadata": {
        "colab": {
          "base_uri": "https://localhost:8080/"
        },
        "id": "aCtOdy9aa3Oy",
        "outputId": "01d5b3c5-f97e-46ea-8d22-95ff6149eb6c"
      },
      "execution_count": null,
      "outputs": [
        {
          "output_type": "stream",
          "name": "stdout",
          "text": [
            "(5499, 6)\n",
            "(12365, 6)\n",
            "(11, 6)\n",
            "(1053, 6)\n",
            "(431, 6)\n"
          ]
        }
      ]
    },
    {
      "cell_type": "code",
      "source": [
        "bldg_py['Type'] = 'Historical Buildings'\n",
        "dist_py['Type'] = 'Historical Districts'\n",
        "obj_py['Type'] = 'Historical Objects'\n",
        "site_py['Type'] = 'Historical Sites'\n",
        "str_py['Type'] = 'Historical Structures'"
      ],
      "metadata": {
        "id": "kGKlTP7pg4pc"
      },
      "execution_count": null,
      "outputs": []
    },
    {
      "cell_type": "code",
      "source": [
        "NRHP_locations_py = pd.concat([bldg_py, dist_py, obj_py, site_py, str_py], ignore_index=True)\n",
        "NRHP_locations_py.shape"
      ],
      "metadata": {
        "colab": {
          "base_uri": "https://localhost:8080/"
        },
        "id": "JloWNfXoa7HS",
        "outputId": "cec046a0-86df-4ff2-c15a-f5a602808178"
      },
      "execution_count": null,
      "outputs": [
        {
          "output_type": "execute_result",
          "data": {
            "text/plain": [
              "(19359, 7)"
            ]
          },
          "metadata": {},
          "execution_count": 82
        }
      ]
    },
    {
      "cell_type": "code",
      "source": [
        "NRHP_locations_py.to_csv('NRHP_locations_py.csv', index=False)"
      ],
      "metadata": {
        "id": "fO-1iIJAear4"
      },
      "execution_count": null,
      "outputs": []
    },
    {
      "cell_type": "markdown",
      "source": [
        "# Combine"
      ],
      "metadata": {
        "id": "jSVyRMcrh28y"
      }
    },
    {
      "cell_type": "code",
      "source": [
        "NRHP_locations_all = pd.concat([NRHP_locations_pt, NRHP_locations_py], ignore_index=True)\n",
        "NRHP_locations_all.shape"
      ],
      "metadata": {
        "colab": {
          "base_uri": "https://localhost:8080/"
        },
        "id": "XB1sUGqeegZs",
        "outputId": "ffa019d3-90ab-40a3-90b7-cb063682e4db"
      },
      "execution_count": null,
      "outputs": [
        {
          "output_type": "execute_result",
          "data": {
            "text/plain": [
              "(91523, 7)"
            ]
          },
          "metadata": {},
          "execution_count": 84
        }
      ]
    },
    {
      "cell_type": "code",
      "source": [
        "NRHP_locations_all.to_csv('NRHP_locations_all.csv', index=False)"
      ],
      "metadata": {
        "id": "XfJIMLdGh0l7"
      },
      "execution_count": null,
      "outputs": []
    }
  ]
}